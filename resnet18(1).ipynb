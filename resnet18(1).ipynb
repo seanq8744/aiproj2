{
 "cells": [
  {
   "cell_type": "code",
   "execution_count": 5,
   "id": "65692b77-0503-493c-8b53-aba7405cdb01",
   "metadata": {},
   "outputs": [],
   "source": [
    "import torch\n",
    "import torch.nn as nn\n",
    "import torch.optim as optim\n",
    "from torchvision import datasets, transforms, models\n",
    "from torch.utils.data import DataLoader, random_split\n",
    "from tqdm.notebook import tqdm\n",
    "import torch.nn.functional as F\n",
    "import matplotlib.pyplot as plt"
   ]
  },
  {
   "cell_type": "code",
   "execution_count": 14,
   "id": "1d21f932-f779-44f5-8cd5-8b4962baa63b",
   "metadata": {},
   "outputs": [
    {
     "data": {
      "application/vnd.jupyter.widget-view+json": {
       "model_id": "a8a0863e6b4a4c3ba931ecd94d75fe2a",
       "version_major": 2,
       "version_minor": 0
      },
      "text/plain": [
       "  0%|          | 0/186 [00:00<?, ?it/s]"
      ]
     },
     "metadata": {},
     "output_type": "display_data"
    },
    {
     "name": "stdout",
     "output_type": "stream",
     "text": [
      "Epoch 0 Training Loss 5.344998366751573\n",
      "Epoch 0 Training Loss 5.344998366751573. Validation Loss 5.429630756378174 Accuracy 0.0\n"
     ]
    },
    {
     "data": {
      "application/vnd.jupyter.widget-view+json": {
       "model_id": "c0bac5e5143d40f1b1da973b747f838c",
       "version_major": 2,
       "version_minor": 0
      },
      "text/plain": [
       "  0%|          | 0/186 [00:00<?, ?it/s]"
      ]
     },
     "metadata": {},
     "output_type": "display_data"
    },
    {
     "name": "stdout",
     "output_type": "stream",
     "text": [
      "Epoch 1 Training Loss 5.025859027588693\n",
      "Epoch 1 Training Loss 5.025859027588693. Validation Loss 4.931354745229085 Accuracy 5.0\n"
     ]
    },
    {
     "data": {
      "application/vnd.jupyter.widget-view+json": {
       "model_id": "211e31e535164c29969f43b0500235ca",
       "version_major": 2,
       "version_minor": 0
      },
      "text/plain": [
       "  0%|          | 0/186 [00:00<?, ?it/s]"
      ]
     },
     "metadata": {},
     "output_type": "display_data"
    },
    {
     "name": "stdout",
     "output_type": "stream",
     "text": [
      "Epoch 2 Training Loss 4.850586794906889\n",
      "Epoch 2 Training Loss 4.850586794906889. Validation Loss 4.993493811289469 Accuracy 1.6666666666666667\n"
     ]
    },
    {
     "data": {
      "application/vnd.jupyter.widget-view+json": {
       "model_id": "a0ae9779799f4d3b9a46b4bb501ca773",
       "version_major": 2,
       "version_minor": 0
      },
      "text/plain": [
       "  0%|          | 0/186 [00:00<?, ?it/s]"
      ]
     },
     "metadata": {},
     "output_type": "display_data"
    },
    {
     "name": "stdout",
     "output_type": "stream",
     "text": [
      "Epoch 3 Training Loss 4.681769951530125\n",
      "Epoch 3 Training Loss 4.681769951530125. Validation Loss 4.568271891276042 Accuracy 0.0\n"
     ]
    },
    {
     "data": {
      "application/vnd.jupyter.widget-view+json": {
       "model_id": "0d727b8cf4f64f33ac5de6cc44c16877",
       "version_major": 2,
       "version_minor": 0
      },
      "text/plain": [
       "  0%|          | 0/186 [00:00<?, ?it/s]"
      ]
     },
     "metadata": {},
     "output_type": "display_data"
    },
    {
     "name": "stdout",
     "output_type": "stream",
     "text": [
      "Epoch 4 Training Loss 4.511658071145732\n",
      "Epoch 4 Training Loss 4.511658071145732. Validation Loss 4.652137088775635 Accuracy 1.6666666666666667\n"
     ]
    },
    {
     "data": {
      "application/vnd.jupyter.widget-view+json": {
       "model_id": "eeffa89f3cc24c55ab2ebe72ee50d0ea",
       "version_major": 2,
       "version_minor": 0
      },
      "text/plain": [
       "  0%|          | 0/186 [00:00<?, ?it/s]"
      ]
     },
     "metadata": {},
     "output_type": "display_data"
    },
    {
     "name": "stdout",
     "output_type": "stream",
     "text": [
      "Epoch 5 Training Loss 4.3372302299643515\n",
      "Epoch 5 Training Loss 4.3372302299643515. Validation Loss 4.4648212114969885 Accuracy 1.6666666666666667\n"
     ]
    },
    {
     "data": {
      "application/vnd.jupyter.widget-view+json": {
       "model_id": "7f21d3db77bd45b5846e42d5774af10f",
       "version_major": 2,
       "version_minor": 0
      },
      "text/plain": [
       "  0%|          | 0/186 [00:00<?, ?it/s]"
      ]
     },
     "metadata": {},
     "output_type": "display_data"
    },
    {
     "name": "stdout",
     "output_type": "stream",
     "text": [
      "Epoch 6 Training Loss 4.205947126247764\n",
      "Epoch 6 Training Loss 4.205947126247764. Validation Loss 4.290601030985514 Accuracy 1.6666666666666667\n"
     ]
    },
    {
     "data": {
      "application/vnd.jupyter.widget-view+json": {
       "model_id": "778dd7a1736c44ac93bcb3bfcf5bb15a",
       "version_major": 2,
       "version_minor": 0
      },
      "text/plain": [
       "  0%|          | 0/186 [00:00<?, ?it/s]"
      ]
     },
     "metadata": {},
     "output_type": "display_data"
    },
    {
     "name": "stdout",
     "output_type": "stream",
     "text": [
      "Epoch 7 Training Loss 4.061340545619583\n",
      "Epoch 7 Training Loss 4.061340545619583. Validation Loss 4.192566585540772 Accuracy 8.333333333333334\n"
     ]
    },
    {
     "data": {
      "application/vnd.jupyter.widget-view+json": {
       "model_id": "8238d0d5ecf545949ea48349e7798395",
       "version_major": 2,
       "version_minor": 0
      },
      "text/plain": [
       "  0%|          | 0/186 [00:00<?, ?it/s]"
      ]
     },
     "metadata": {},
     "output_type": "display_data"
    },
    {
     "name": "stdout",
     "output_type": "stream",
     "text": [
      "Epoch 8 Training Loss 3.8947899663813956\n",
      "Epoch 8 Training Loss 3.8947899663813956. Validation Loss 4.058044083913168 Accuracy 6.666666666666667\n"
     ]
    },
    {
     "data": {
      "application/vnd.jupyter.widget-view+json": {
       "model_id": "3081ebb50300403d99126035ea043c4c",
       "version_major": 2,
       "version_minor": 0
      },
      "text/plain": [
       "  0%|          | 0/186 [00:00<?, ?it/s]"
      ]
     },
     "metadata": {},
     "output_type": "display_data"
    },
    {
     "name": "stdout",
     "output_type": "stream",
     "text": [
      "Epoch 9 Training Loss 3.7802358220071155\n",
      "Epoch 9 Training Loss 3.7802358220071155. Validation Loss 3.954017400741577 Accuracy 11.666666666666666\n"
     ]
    },
    {
     "data": {
      "application/vnd.jupyter.widget-view+json": {
       "model_id": "44b849911f8c46d991d28a031ccd7002",
       "version_major": 2,
       "version_minor": 0
      },
      "text/plain": [
       "  0%|          | 0/186 [00:00<?, ?it/s]"
      ]
     },
     "metadata": {},
     "output_type": "display_data"
    },
    {
     "name": "stdout",
     "output_type": "stream",
     "text": [
      "Epoch 10 Training Loss 3.6108168245848478\n",
      "Epoch 10 Training Loss 3.6108168245848478. Validation Loss 4.233836269378662 Accuracy 8.333333333333334\n"
     ]
    },
    {
     "data": {
      "application/vnd.jupyter.widget-view+json": {
       "model_id": "e7dbb8d66cee44b5ac6d2bf9eebadbbf",
       "version_major": 2,
       "version_minor": 0
      },
      "text/plain": [
       "  0%|          | 0/186 [00:00<?, ?it/s]"
      ]
     },
     "metadata": {},
     "output_type": "display_data"
    },
    {
     "name": "stdout",
     "output_type": "stream",
     "text": [
      "Epoch 11 Training Loss 3.4887383407641632\n",
      "Epoch 11 Training Loss 3.4887383407641632. Validation Loss 3.9657616933186848 Accuracy 11.666666666666666\n"
     ]
    },
    {
     "data": {
      "application/vnd.jupyter.widget-view+json": {
       "model_id": "528a4c70bab448c498b62211158c06d0",
       "version_major": 2,
       "version_minor": 0
      },
      "text/plain": [
       "  0%|          | 0/186 [00:00<?, ?it/s]"
      ]
     },
     "metadata": {},
     "output_type": "display_data"
    },
    {
     "name": "stdout",
     "output_type": "stream",
     "text": [
      "Epoch 12 Training Loss 3.343414114748624\n",
      "Epoch 12 Training Loss 3.343414114748624. Validation Loss 3.969008270899455 Accuracy 11.666666666666666\n"
     ]
    },
    {
     "data": {
      "application/vnd.jupyter.widget-view+json": {
       "model_id": "b15992c4e14b4d58b009c1e207b0b833",
       "version_major": 2,
       "version_minor": 0
      },
      "text/plain": [
       "  0%|          | 0/186 [00:00<?, ?it/s]"
      ]
     },
     "metadata": {},
     "output_type": "display_data"
    },
    {
     "name": "stdout",
     "output_type": "stream",
     "text": [
      "Epoch 13 Training Loss 3.1696556323218275\n",
      "Epoch 13 Training Loss 3.1696556323218275. Validation Loss 4.161067549387614 Accuracy 11.666666666666666\n"
     ]
    },
    {
     "data": {
      "application/vnd.jupyter.widget-view+json": {
       "model_id": "db5c8f1d343a469e876f8db1f4fd608c",
       "version_major": 2,
       "version_minor": 0
      },
      "text/plain": [
       "  0%|          | 0/186 [00:00<?, ?it/s]"
      ]
     },
     "metadata": {},
     "output_type": "display_data"
    },
    {
     "name": "stdout",
     "output_type": "stream",
     "text": [
      "Epoch 14 Training Loss 3.045730531517006\n",
      "Epoch 14 Training Loss 3.045730531517006. Validation Loss 3.519111156463623 Accuracy 15.0\n"
     ]
    },
    {
     "data": {
      "application/vnd.jupyter.widget-view+json": {
       "model_id": "b89c48639d2e4dbf962f01b7c0ca8a7d",
       "version_major": 2,
       "version_minor": 0
      },
      "text/plain": [
       "  0%|          | 0/186 [00:00<?, ?it/s]"
      ]
     },
     "metadata": {},
     "output_type": "display_data"
    },
    {
     "name": "stdout",
     "output_type": "stream",
     "text": [
      "Epoch 15 Training Loss 2.876622740250868\n",
      "Epoch 15 Training Loss 2.876622740250868. Validation Loss 3.470207754770915 Accuracy 16.666666666666668\n"
     ]
    },
    {
     "data": {
      "application/vnd.jupyter.widget-view+json": {
       "model_id": "394e36d34b0a42488d6b3aa2253b3e5e",
       "version_major": 2,
       "version_minor": 0
      },
      "text/plain": [
       "  0%|          | 0/186 [00:00<?, ?it/s]"
      ]
     },
     "metadata": {},
     "output_type": "display_data"
    },
    {
     "name": "stdout",
     "output_type": "stream",
     "text": [
      "Epoch 16 Training Loss 2.719677955806155\n",
      "Epoch 16 Training Loss 2.719677955806155. Validation Loss 3.6075425783793134 Accuracy 13.333333333333334\n"
     ]
    },
    {
     "data": {
      "application/vnd.jupyter.widget-view+json": {
       "model_id": "b4060895fa4642d986ac18092648bbcf",
       "version_major": 2,
       "version_minor": 0
      },
      "text/plain": [
       "  0%|          | 0/186 [00:00<?, ?it/s]"
      ]
     },
     "metadata": {},
     "output_type": "display_data"
    },
    {
     "name": "stdout",
     "output_type": "stream",
     "text": [
      "Epoch 17 Training Loss 2.540364069933838\n",
      "Epoch 17 Training Loss 2.540364069933838. Validation Loss 3.8991259574890136 Accuracy 15.0\n"
     ]
    },
    {
     "data": {
      "application/vnd.jupyter.widget-view+json": {
       "model_id": "ec55ddcbb4cb4b2394b5bd134e55cc1d",
       "version_major": 2,
       "version_minor": 0
      },
      "text/plain": [
       "  0%|          | 0/186 [00:00<?, ?it/s]"
      ]
     },
     "metadata": {},
     "output_type": "display_data"
    },
    {
     "name": "stdout",
     "output_type": "stream",
     "text": [
      "Epoch 18 Training Loss 2.376064174296601\n",
      "Epoch 18 Training Loss 2.376064174296601. Validation Loss 4.105824057261149 Accuracy 15.0\n"
     ]
    },
    {
     "data": {
      "application/vnd.jupyter.widget-view+json": {
       "model_id": "56e4af024d704373a2e6e2e47d489479",
       "version_major": 2,
       "version_minor": 0
      },
      "text/plain": [
       "  0%|          | 0/186 [00:00<?, ?it/s]"
      ]
     },
     "metadata": {},
     "output_type": "display_data"
    },
    {
     "name": "stdout",
     "output_type": "stream",
     "text": [
      "Epoch 19 Training Loss 2.1949261898218198\n",
      "Epoch 19 Training Loss 2.1949261898218198. Validation Loss 3.5250375429789225 Accuracy 23.333333333333332\n"
     ]
    },
    {
     "data": {
      "application/vnd.jupyter.widget-view+json": {
       "model_id": "04794e2c075445e08408ad11a147ac6e",
       "version_major": 2,
       "version_minor": 0
      },
      "text/plain": [
       "  0%|          | 0/186 [00:00<?, ?it/s]"
      ]
     },
     "metadata": {},
     "output_type": "display_data"
    },
    {
     "name": "stdout",
     "output_type": "stream",
     "text": [
      "Epoch 20 Training Loss 1.9946192460788152\n",
      "Epoch 20 Training Loss 1.9946192460788152. Validation Loss 4.011374298731486 Accuracy 26.666666666666668\n"
     ]
    },
    {
     "data": {
      "application/vnd.jupyter.widget-view+json": {
       "model_id": "5f4c9e3d0c92408fa42f688e42ce8d94",
       "version_major": 2,
       "version_minor": 0
      },
      "text/plain": [
       "  0%|          | 0/186 [00:00<?, ?it/s]"
      ]
     },
     "metadata": {},
     "output_type": "display_data"
    },
    {
     "name": "stdout",
     "output_type": "stream",
     "text": [
      "Epoch 21 Training Loss 1.7725903687350149\n",
      "Epoch 21 Training Loss 1.7725903687350149. Validation Loss 3.870026127497355 Accuracy 20.0\n"
     ]
    },
    {
     "data": {
      "application/vnd.jupyter.widget-view+json": {
       "model_id": "5e220ec097c24649bbdb918ce57107a6",
       "version_major": 2,
       "version_minor": 0
      },
      "text/plain": [
       "  0%|          | 0/186 [00:00<?, ?it/s]"
      ]
     },
     "metadata": {},
     "output_type": "display_data"
    },
    {
     "name": "stdout",
     "output_type": "stream",
     "text": [
      "Epoch 22 Training Loss 1.5645541191743928\n",
      "Epoch 22 Training Loss 1.5645541191743928. Validation Loss 3.8454291343688967 Accuracy 26.666666666666668\n"
     ]
    },
    {
     "data": {
      "application/vnd.jupyter.widget-view+json": {
       "model_id": "60704df2e4834c57ba7e3431afd995a7",
       "version_major": 2,
       "version_minor": 0
      },
      "text/plain": [
       "  0%|          | 0/186 [00:00<?, ?it/s]"
      ]
     },
     "metadata": {},
     "output_type": "display_data"
    },
    {
     "name": "stdout",
     "output_type": "stream",
     "text": [
      "Epoch 23 Training Loss 1.3765693961428922\n",
      "Epoch 23 Training Loss 1.3765693961428922. Validation Loss 3.8259331862131756 Accuracy 20.0\n"
     ]
    },
    {
     "data": {
      "application/vnd.jupyter.widget-view+json": {
       "model_id": "ced080c90c89419cba96f0d7159f1d28",
       "version_major": 2,
       "version_minor": 0
      },
      "text/plain": [
       "  0%|          | 0/186 [00:00<?, ?it/s]"
      ]
     },
     "metadata": {},
     "output_type": "display_data"
    },
    {
     "name": "stdout",
     "output_type": "stream",
     "text": [
      "Epoch 24 Training Loss 1.1852306212324626\n",
      "Epoch 24 Training Loss 1.1852306212324626. Validation Loss 4.269045734405518 Accuracy 23.333333333333332\n"
     ]
    },
    {
     "data": {
      "application/vnd.jupyter.widget-view+json": {
       "model_id": "15565e827b5b48ec90db4e6b75881f43",
       "version_major": 2,
       "version_minor": 0
      },
      "text/plain": [
       "  0%|          | 0/186 [00:00<?, ?it/s]"
      ]
     },
     "metadata": {},
     "output_type": "display_data"
    },
    {
     "name": "stdout",
     "output_type": "stream",
     "text": [
      "Epoch 25 Training Loss 0.9876078793526017\n",
      "Epoch 25 Training Loss 0.9876078793526017. Validation Loss 4.0585673173268635 Accuracy 25.0\n"
     ]
    },
    {
     "data": {
      "application/vnd.jupyter.widget-view+json": {
       "model_id": "05008b4fa9d2446da97d1aa7c1816049",
       "version_major": 2,
       "version_minor": 0
      },
      "text/plain": [
       "  0%|          | 0/186 [00:00<?, ?it/s]"
      ]
     },
     "metadata": {},
     "output_type": "display_data"
    },
    {
     "name": "stdout",
     "output_type": "stream",
     "text": [
      "Epoch 26 Training Loss 0.7878600098607031\n",
      "Epoch 26 Training Loss 0.7878600098607031. Validation Loss 4.247958819071452 Accuracy 21.666666666666668\n"
     ]
    },
    {
     "data": {
      "application/vnd.jupyter.widget-view+json": {
       "model_id": "d0bca2983bf54c4d991c640449ed93de",
       "version_major": 2,
       "version_minor": 0
      },
      "text/plain": [
       "  0%|          | 0/186 [00:00<?, ?it/s]"
      ]
     },
     "metadata": {},
     "output_type": "display_data"
    },
    {
     "name": "stdout",
     "output_type": "stream",
     "text": [
      "Epoch 27 Training Loss 0.6718437627465146\n",
      "Epoch 27 Training Loss 0.6718437627465146. Validation Loss 4.301391315460205 Accuracy 20.0\n"
     ]
    },
    {
     "data": {
      "application/vnd.jupyter.widget-view+json": {
       "model_id": "d0abc8350a764bd7b9e463e277182120",
       "version_major": 2,
       "version_minor": 0
      },
      "text/plain": [
       "  0%|          | 0/186 [00:00<?, ?it/s]"
      ]
     },
     "metadata": {},
     "output_type": "display_data"
    },
    {
     "name": "stdout",
     "output_type": "stream",
     "text": [
      "Epoch 28 Training Loss 0.5606987875521203\n",
      "Epoch 28 Training Loss 0.5606987875521203. Validation Loss 4.308089097340901 Accuracy 21.666666666666668\n"
     ]
    },
    {
     "data": {
      "application/vnd.jupyter.widget-view+json": {
       "model_id": "590b7d1ac8464d7291838b6662f9f680",
       "version_major": 2,
       "version_minor": 0
      },
      "text/plain": [
       "  0%|          | 0/186 [00:00<?, ?it/s]"
      ]
     },
     "metadata": {},
     "output_type": "display_data"
    },
    {
     "name": "stdout",
     "output_type": "stream",
     "text": [
      "Epoch 29 Training Loss 0.40629852029021274\n",
      "Epoch 29 Training Loss 0.40629852029021274. Validation Loss 4.957484785715739 Accuracy 16.666666666666668\n"
     ]
    },
    {
     "data": {
      "application/vnd.jupyter.widget-view+json": {
       "model_id": "3ed629916d684d01b61625388457f326",
       "version_major": 2,
       "version_minor": 0
      },
      "text/plain": [
       "  0%|          | 0/186 [00:00<?, ?it/s]"
      ]
     },
     "metadata": {},
     "output_type": "display_data"
    },
    {
     "name": "stdout",
     "output_type": "stream",
     "text": [
      "Epoch 30 Training Loss 0.3435690233632696\n",
      "Epoch 30 Training Loss 0.3435690233632696. Validation Loss 4.5996753692626955 Accuracy 26.666666666666668\n"
     ]
    },
    {
     "data": {
      "application/vnd.jupyter.widget-view+json": {
       "model_id": "4a7ee19ceb8041e881274ba6232e7864",
       "version_major": 2,
       "version_minor": 0
      },
      "text/plain": [
       "  0%|          | 0/186 [00:00<?, ?it/s]"
      ]
     },
     "metadata": {},
     "output_type": "display_data"
    },
    {
     "name": "stdout",
     "output_type": "stream",
     "text": [
      "Epoch 31 Training Loss 0.3154635345007701\n",
      "Epoch 31 Training Loss 0.3154635345007701. Validation Loss 4.943160724639893 Accuracy 16.666666666666668\n"
     ]
    },
    {
     "data": {
      "application/vnd.jupyter.widget-view+json": {
       "model_id": "1014b1b25446436f9519f57d42cd0b86",
       "version_major": 2,
       "version_minor": 0
      },
      "text/plain": [
       "  0%|          | 0/186 [00:00<?, ?it/s]"
      ]
     },
     "metadata": {},
     "output_type": "display_data"
    },
    {
     "name": "stdout",
     "output_type": "stream",
     "text": [
      "Epoch 32 Training Loss 0.2874309863351514\n",
      "Epoch 32 Training Loss 0.2874309863351514. Validation Loss 4.625024255116781 Accuracy 23.333333333333332\n"
     ]
    },
    {
     "data": {
      "application/vnd.jupyter.widget-view+json": {
       "model_id": "249e3b7a4cf34691aebcc3cd7d1ea006",
       "version_major": 2,
       "version_minor": 0
      },
      "text/plain": [
       "  0%|          | 0/186 [00:00<?, ?it/s]"
      ]
     },
     "metadata": {},
     "output_type": "display_data"
    },
    {
     "name": "stdout",
     "output_type": "stream",
     "text": [
      "Epoch 33 Training Loss 0.27456607526707494\n",
      "Epoch 33 Training Loss 0.27456607526707494. Validation Loss 5.498193073272705 Accuracy 18.333333333333332\n"
     ]
    },
    {
     "data": {
      "application/vnd.jupyter.widget-view+json": {
       "model_id": "246b816060124cfea6ccf3dd082bb442",
       "version_major": 2,
       "version_minor": 0
      },
      "text/plain": [
       "  0%|          | 0/186 [00:00<?, ?it/s]"
      ]
     },
     "metadata": {},
     "output_type": "display_data"
    },
    {
     "name": "stdout",
     "output_type": "stream",
     "text": [
      "Epoch 34 Training Loss 0.21900071111800576\n",
      "Epoch 34 Training Loss 0.21900071111800576. Validation Loss 5.275670433044434 Accuracy 23.333333333333332\n"
     ]
    },
    {
     "data": {
      "application/vnd.jupyter.widget-view+json": {
       "model_id": "d486c29e6870418ba601552f3109331e",
       "version_major": 2,
       "version_minor": 0
      },
      "text/plain": [
       "  0%|          | 0/186 [00:00<?, ?it/s]"
      ]
     },
     "metadata": {},
     "output_type": "display_data"
    },
    {
     "name": "stdout",
     "output_type": "stream",
     "text": [
      "Epoch 35 Training Loss 0.22101785202881363\n",
      "Epoch 35 Training Loss 0.22101785202881363. Validation Loss 5.269447771708171 Accuracy 16.666666666666668\n"
     ]
    },
    {
     "data": {
      "application/vnd.jupyter.widget-view+json": {
       "model_id": "3b038cfd311a43969c43b09c3d225868",
       "version_major": 2,
       "version_minor": 0
      },
      "text/plain": [
       "  0%|          | 0/186 [00:00<?, ?it/s]"
      ]
     },
     "metadata": {},
     "output_type": "display_data"
    },
    {
     "name": "stdout",
     "output_type": "stream",
     "text": [
      "Epoch 36 Training Loss 0.1955320940380913\n",
      "Epoch 36 Training Loss 0.1955320940380913. Validation Loss 5.3591943422953285 Accuracy 11.666666666666666\n"
     ]
    },
    {
     "data": {
      "application/vnd.jupyter.widget-view+json": {
       "model_id": "b61109ffd79d47b1b9f577f750b840c5",
       "version_major": 2,
       "version_minor": 0
      },
      "text/plain": [
       "  0%|          | 0/186 [00:00<?, ?it/s]"
      ]
     },
     "metadata": {},
     "output_type": "display_data"
    },
    {
     "name": "stdout",
     "output_type": "stream",
     "text": [
      "Epoch 37 Training Loss 0.18981998811316161\n",
      "Epoch 37 Training Loss 0.18981998811316161. Validation Loss 4.946088473002116 Accuracy 20.0\n"
     ]
    },
    {
     "data": {
      "application/vnd.jupyter.widget-view+json": {
       "model_id": "1c7c9f3db8b44095ad462cd504f9d2c6",
       "version_major": 2,
       "version_minor": 0
      },
      "text/plain": [
       "  0%|          | 0/186 [00:00<?, ?it/s]"
      ]
     },
     "metadata": {},
     "output_type": "display_data"
    },
    {
     "name": "stdout",
     "output_type": "stream",
     "text": [
      "Epoch 38 Training Loss 0.20240109978117524\n",
      "Epoch 38 Training Loss 0.20240109978117524. Validation Loss 5.486243534088135 Accuracy 25.0\n"
     ]
    },
    {
     "data": {
      "application/vnd.jupyter.widget-view+json": {
       "model_id": "5c759a7262b84b1e8e9c112fc650748d",
       "version_major": 2,
       "version_minor": 0
      },
      "text/plain": [
       "  0%|          | 0/186 [00:00<?, ?it/s]"
      ]
     },
     "metadata": {},
     "output_type": "display_data"
    },
    {
     "name": "stdout",
     "output_type": "stream",
     "text": [
      "Epoch 39 Training Loss 0.16035475442013356\n",
      "Epoch 39 Training Loss 0.16035475442013356. Validation Loss 4.772784328460693 Accuracy 33.333333333333336\n"
     ]
    },
    {
     "data": {
      "application/vnd.jupyter.widget-view+json": {
       "model_id": "273c356da83b447882dce42ea80e8fe2",
       "version_major": 2,
       "version_minor": 0
      },
      "text/plain": [
       "  0%|          | 0/186 [00:00<?, ?it/s]"
      ]
     },
     "metadata": {},
     "output_type": "display_data"
    },
    {
     "name": "stdout",
     "output_type": "stream",
     "text": [
      "Epoch 40 Training Loss 0.1598535389722619\n",
      "Epoch 40 Training Loss 0.1598535389722619. Validation Loss 6.164363924662272 Accuracy 20.0\n"
     ]
    },
    {
     "data": {
      "application/vnd.jupyter.widget-view+json": {
       "model_id": "736a10eb3a0d4efe9c744eea8a22a3c5",
       "version_major": 2,
       "version_minor": 0
      },
      "text/plain": [
       "  0%|          | 0/186 [00:00<?, ?it/s]"
      ]
     },
     "metadata": {},
     "output_type": "display_data"
    },
    {
     "name": "stdout",
     "output_type": "stream",
     "text": [
      "Epoch 41 Training Loss 0.14827172348183495\n",
      "Epoch 41 Training Loss 0.14827172348183495. Validation Loss 5.996369934082031 Accuracy 26.666666666666668\n"
     ]
    },
    {
     "data": {
      "application/vnd.jupyter.widget-view+json": {
       "model_id": "bf41d5163fe14db5bbd1778c70cf186d",
       "version_major": 2,
       "version_minor": 0
      },
      "text/plain": [
       "  0%|          | 0/186 [00:00<?, ?it/s]"
      ]
     },
     "metadata": {},
     "output_type": "display_data"
    },
    {
     "name": "stdout",
     "output_type": "stream",
     "text": [
      "Epoch 42 Training Loss 0.19312697202017462\n",
      "Epoch 42 Training Loss 0.19312697202017462. Validation Loss 5.3883057276407875 Accuracy 20.0\n"
     ]
    },
    {
     "data": {
      "application/vnd.jupyter.widget-view+json": {
       "model_id": "caea41e74bff46f39b054bc63b798392",
       "version_major": 2,
       "version_minor": 0
      },
      "text/plain": [
       "  0%|          | 0/186 [00:00<?, ?it/s]"
      ]
     },
     "metadata": {},
     "output_type": "display_data"
    },
    {
     "name": "stdout",
     "output_type": "stream",
     "text": [
      "Epoch 43 Training Loss 0.13513416192488997\n",
      "Epoch 43 Training Loss 0.13513416192488997. Validation Loss 6.004698499043783 Accuracy 13.333333333333334\n"
     ]
    },
    {
     "data": {
      "application/vnd.jupyter.widget-view+json": {
       "model_id": "5355ea8ad7f144bb81de3c48f6582e07",
       "version_major": 2,
       "version_minor": 0
      },
      "text/plain": [
       "  0%|          | 0/186 [00:00<?, ?it/s]"
      ]
     },
     "metadata": {},
     "output_type": "display_data"
    },
    {
     "name": "stdout",
     "output_type": "stream",
     "text": [
      "Epoch 44 Training Loss 0.14711239805396736\n",
      "Epoch 44 Training Loss 0.14711239805396736. Validation Loss 5.969083150227864 Accuracy 23.333333333333332\n"
     ]
    },
    {
     "data": {
      "application/vnd.jupyter.widget-view+json": {
       "model_id": "a2cc8d616c954cd59124bcfe49c043f9",
       "version_major": 2,
       "version_minor": 0
      },
      "text/plain": [
       "  0%|          | 0/186 [00:00<?, ?it/s]"
      ]
     },
     "metadata": {},
     "output_type": "display_data"
    },
    {
     "name": "stdout",
     "output_type": "stream",
     "text": [
      "Epoch 45 Training Loss 0.13938004528789116\n",
      "Epoch 45 Training Loss 0.13938004528789116. Validation Loss 5.653084087371826 Accuracy 18.333333333333332\n"
     ]
    },
    {
     "data": {
      "application/vnd.jupyter.widget-view+json": {
       "model_id": "6dc073f3bbab43e49b3e7c874c99c988",
       "version_major": 2,
       "version_minor": 0
      },
      "text/plain": [
       "  0%|          | 0/186 [00:00<?, ?it/s]"
      ]
     },
     "metadata": {},
     "output_type": "display_data"
    },
    {
     "name": "stdout",
     "output_type": "stream",
     "text": [
      "Epoch 46 Training Loss 0.11397676127684972\n",
      "Epoch 46 Training Loss 0.11397676127684972. Validation Loss 5.2838654200236 Accuracy 28.333333333333332\n"
     ]
    },
    {
     "data": {
      "application/vnd.jupyter.widget-view+json": {
       "model_id": "d0d8e29bf9ea48e6ad7413db21fc2247",
       "version_major": 2,
       "version_minor": 0
      },
      "text/plain": [
       "  0%|          | 0/186 [00:00<?, ?it/s]"
      ]
     },
     "metadata": {},
     "output_type": "display_data"
    },
    {
     "name": "stdout",
     "output_type": "stream",
     "text": [
      "Epoch 47 Training Loss 0.11578368029190227\n",
      "Epoch 47 Training Loss 0.11578368029190227. Validation Loss 5.853203550974528 Accuracy 28.333333333333332\n"
     ]
    },
    {
     "data": {
      "application/vnd.jupyter.widget-view+json": {
       "model_id": "1c1a030b6aea4c5bb33419d966f1f440",
       "version_major": 2,
       "version_minor": 0
      },
      "text/plain": [
       "  0%|          | 0/186 [00:00<?, ?it/s]"
      ]
     },
     "metadata": {},
     "output_type": "display_data"
    },
    {
     "name": "stdout",
     "output_type": "stream",
     "text": [
      "Epoch 48 Training Loss 0.12023998909439348\n",
      "Epoch 48 Training Loss 0.12023998909439348. Validation Loss 5.422044022878011 Accuracy 25.0\n"
     ]
    },
    {
     "data": {
      "application/vnd.jupyter.widget-view+json": {
       "model_id": "c147b0704aad4279b79cc9a3cd513672",
       "version_major": 2,
       "version_minor": 0
      },
      "text/plain": [
       "  0%|          | 0/186 [00:00<?, ?it/s]"
      ]
     },
     "metadata": {},
     "output_type": "display_data"
    },
    {
     "name": "stdout",
     "output_type": "stream",
     "text": [
      "Epoch 49 Training Loss 0.14197947363641314\n",
      "Epoch 49 Training Loss 0.14197947363641314. Validation Loss 6.002044010162353 Accuracy 25.0\n"
     ]
    },
    {
     "data": {
      "application/vnd.jupyter.widget-view+json": {
       "model_id": "ea32f5749fa843a596ba2dbf90eeb322",
       "version_major": 2,
       "version_minor": 0
      },
      "text/plain": [
       "  0%|          | 0/186 [00:00<?, ?it/s]"
      ]
     },
     "metadata": {},
     "output_type": "display_data"
    },
    {
     "name": "stdout",
     "output_type": "stream",
     "text": [
      "Epoch 50 Training Loss 0.13006808389044788\n",
      "Epoch 50 Training Loss 0.13006808389044788. Validation Loss 5.905933825174968 Accuracy 26.666666666666668\n"
     ]
    },
    {
     "data": {
      "application/vnd.jupyter.widget-view+json": {
       "model_id": "1b7779e92f6045848d991a38cb6daeff",
       "version_major": 2,
       "version_minor": 0
      },
      "text/plain": [
       "  0%|          | 0/186 [00:00<?, ?it/s]"
      ]
     },
     "metadata": {},
     "output_type": "display_data"
    },
    {
     "name": "stdout",
     "output_type": "stream",
     "text": [
      "Epoch 51 Training Loss 0.14042255452657976\n",
      "Epoch 51 Training Loss 0.14042255452657976. Validation Loss 6.180087089538574 Accuracy 20.0\n"
     ]
    },
    {
     "data": {
      "application/vnd.jupyter.widget-view+json": {
       "model_id": "6520e9e59f8b4bfdba7392033296f3cd",
       "version_major": 2,
       "version_minor": 0
      },
      "text/plain": [
       "  0%|          | 0/186 [00:00<?, ?it/s]"
      ]
     },
     "metadata": {},
     "output_type": "display_data"
    },
    {
     "name": "stdout",
     "output_type": "stream",
     "text": [
      "Epoch 52 Training Loss 0.09823462404725043\n",
      "Epoch 52 Training Loss 0.09823462404725043. Validation Loss 5.6913470268249515 Accuracy 21.666666666666668\n"
     ]
    },
    {
     "data": {
      "application/vnd.jupyter.widget-view+json": {
       "model_id": "9946b629c49a45e5917069b0c56eb104",
       "version_major": 2,
       "version_minor": 0
      },
      "text/plain": [
       "  0%|          | 0/186 [00:00<?, ?it/s]"
      ]
     },
     "metadata": {},
     "output_type": "display_data"
    },
    {
     "name": "stdout",
     "output_type": "stream",
     "text": [
      "Epoch 53 Training Loss 0.12830483110858248\n",
      "Epoch 53 Training Loss 0.12830483110858248. Validation Loss 5.716236623128255 Accuracy 28.333333333333332\n"
     ]
    },
    {
     "data": {
      "application/vnd.jupyter.widget-view+json": {
       "model_id": "88a421e1d77244ca933770d72e77428b",
       "version_major": 2,
       "version_minor": 0
      },
      "text/plain": [
       "  0%|          | 0/186 [00:00<?, ?it/s]"
      ]
     },
     "metadata": {},
     "output_type": "display_data"
    },
    {
     "name": "stdout",
     "output_type": "stream",
     "text": [
      "Epoch 54 Training Loss 0.11353251047213953\n",
      "Epoch 54 Training Loss 0.11353251047213953. Validation Loss 6.055429077148437 Accuracy 23.333333333333332\n"
     ]
    },
    {
     "data": {
      "application/vnd.jupyter.widget-view+json": {
       "model_id": "32b92df8229b451589071fcf523079f7",
       "version_major": 2,
       "version_minor": 0
      },
      "text/plain": [
       "  0%|          | 0/186 [00:00<?, ?it/s]"
      ]
     },
     "metadata": {},
     "output_type": "display_data"
    },
    {
     "name": "stdout",
     "output_type": "stream",
     "text": [
      "Epoch 55 Training Loss 0.10969166841356691\n",
      "Epoch 55 Training Loss 0.10969166841356691. Validation Loss 5.132950242360433 Accuracy 26.666666666666668\n"
     ]
    },
    {
     "data": {
      "application/vnd.jupyter.widget-view+json": {
       "model_id": "097d9501067c4ec387ec13ef6e7c798e",
       "version_major": 2,
       "version_minor": 0
      },
      "text/plain": [
       "  0%|          | 0/186 [00:00<?, ?it/s]"
      ]
     },
     "metadata": {},
     "output_type": "display_data"
    },
    {
     "name": "stdout",
     "output_type": "stream",
     "text": [
      "Epoch 56 Training Loss 0.09201945115369219\n",
      "Epoch 56 Training Loss 0.09201945115369219. Validation Loss 6.660856437683106 Accuracy 23.333333333333332\n"
     ]
    },
    {
     "data": {
      "application/vnd.jupyter.widget-view+json": {
       "model_id": "49788661eb6746679ed8b050f584b696",
       "version_major": 2,
       "version_minor": 0
      },
      "text/plain": [
       "  0%|          | 0/186 [00:00<?, ?it/s]"
      ]
     },
     "metadata": {},
     "output_type": "display_data"
    },
    {
     "name": "stdout",
     "output_type": "stream",
     "text": [
      "Epoch 57 Training Loss 0.07780274373385333\n",
      "Epoch 57 Training Loss 0.07780274373385333. Validation Loss 5.487758922576904 Accuracy 26.666666666666668\n"
     ]
    },
    {
     "data": {
      "application/vnd.jupyter.widget-view+json": {
       "model_id": "f2d8154b0868490caf11da37416212c5",
       "version_major": 2,
       "version_minor": 0
      },
      "text/plain": [
       "  0%|          | 0/186 [00:00<?, ?it/s]"
      ]
     },
     "metadata": {},
     "output_type": "display_data"
    },
    {
     "name": "stdout",
     "output_type": "stream",
     "text": [
      "Epoch 58 Training Loss 0.07807392670945926\n",
      "Epoch 58 Training Loss 0.07807392670945926. Validation Loss 6.530702940622965 Accuracy 20.0\n"
     ]
    },
    {
     "data": {
      "application/vnd.jupyter.widget-view+json": {
       "model_id": "96406e83cd0c42c8bcab033443b4f524",
       "version_major": 2,
       "version_minor": 0
      },
      "text/plain": [
       "  0%|          | 0/186 [00:00<?, ?it/s]"
      ]
     },
     "metadata": {},
     "output_type": "display_data"
    },
    {
     "name": "stdout",
     "output_type": "stream",
     "text": [
      "Epoch 59 Training Loss 0.07876770999150763\n",
      "Epoch 59 Training Loss 0.07876770999150763. Validation Loss 7.038086223602295 Accuracy 21.666666666666668\n"
     ]
    },
    {
     "data": {
      "application/vnd.jupyter.widget-view+json": {
       "model_id": "1792e370e748475186e145aa7fc1f5ba",
       "version_major": 2,
       "version_minor": 0
      },
      "text/plain": [
       "  0%|          | 0/186 [00:00<?, ?it/s]"
      ]
     },
     "metadata": {},
     "output_type": "display_data"
    },
    {
     "name": "stdout",
     "output_type": "stream",
     "text": [
      "Epoch 60 Training Loss 0.08032953113638917\n",
      "Epoch 60 Training Loss 0.08032953113638917. Validation Loss 5.661427561442057 Accuracy 25.0\n"
     ]
    },
    {
     "data": {
      "application/vnd.jupyter.widget-view+json": {
       "model_id": "3f3979ba249e49f5bea28b7a1a8e6b5b",
       "version_major": 2,
       "version_minor": 0
      },
      "text/plain": [
       "  0%|          | 0/186 [00:00<?, ?it/s]"
      ]
     },
     "metadata": {},
     "output_type": "display_data"
    },
    {
     "name": "stdout",
     "output_type": "stream",
     "text": [
      "Epoch 61 Training Loss 0.0940936715086281\n",
      "Epoch 61 Training Loss 0.0940936715086281. Validation Loss 5.571714782714844 Accuracy 33.333333333333336\n"
     ]
    },
    {
     "data": {
      "application/vnd.jupyter.widget-view+json": {
       "model_id": "0678a14e31654492a2276d767383eb5e",
       "version_major": 2,
       "version_minor": 0
      },
      "text/plain": [
       "  0%|          | 0/186 [00:00<?, ?it/s]"
      ]
     },
     "metadata": {},
     "output_type": "display_data"
    },
    {
     "name": "stdout",
     "output_type": "stream",
     "text": [
      "Epoch 62 Training Loss 0.11646798079915628\n",
      "Epoch 62 Training Loss 0.11646798079915628. Validation Loss 6.156315517425537 Accuracy 23.333333333333332\n"
     ]
    },
    {
     "data": {
      "application/vnd.jupyter.widget-view+json": {
       "model_id": "279f8ee05d384b558a44a832a8d5f982",
       "version_major": 2,
       "version_minor": 0
      },
      "text/plain": [
       "  0%|          | 0/186 [00:00<?, ?it/s]"
      ]
     },
     "metadata": {},
     "output_type": "display_data"
    },
    {
     "name": "stdout",
     "output_type": "stream",
     "text": [
      "Epoch 63 Training Loss 0.11658076689596485\n",
      "Epoch 63 Training Loss 0.11658076689596485. Validation Loss 5.963539441426595 Accuracy 25.0\n"
     ]
    },
    {
     "data": {
      "application/vnd.jupyter.widget-view+json": {
       "model_id": "bcc38620140343e9bb2042671de8c937",
       "version_major": 2,
       "version_minor": 0
      },
      "text/plain": [
       "  0%|          | 0/186 [00:00<?, ?it/s]"
      ]
     },
     "metadata": {},
     "output_type": "display_data"
    },
    {
     "name": "stdout",
     "output_type": "stream",
     "text": [
      "Epoch 64 Training Loss 0.10792378260856691\n",
      "Epoch 64 Training Loss 0.10792378260856691. Validation Loss 6.439928436279297 Accuracy 26.666666666666668\n"
     ]
    },
    {
     "data": {
      "application/vnd.jupyter.widget-view+json": {
       "model_id": "5acaf2025f9c4568ad2ea2f8246e1731",
       "version_major": 2,
       "version_minor": 0
      },
      "text/plain": [
       "  0%|          | 0/186 [00:00<?, ?it/s]"
      ]
     },
     "metadata": {},
     "output_type": "display_data"
    },
    {
     "name": "stdout",
     "output_type": "stream",
     "text": [
      "Epoch 65 Training Loss 0.07126307687375294\n",
      "Epoch 65 Training Loss 0.07126307687375294. Validation Loss 6.500377241770426 Accuracy 26.666666666666668\n"
     ]
    },
    {
     "data": {
      "application/vnd.jupyter.widget-view+json": {
       "model_id": "e5ee40c315a44542b815eb3d8599c77a",
       "version_major": 2,
       "version_minor": 0
      },
      "text/plain": [
       "  0%|          | 0/186 [00:00<?, ?it/s]"
      ]
     },
     "metadata": {},
     "output_type": "display_data"
    },
    {
     "name": "stdout",
     "output_type": "stream",
     "text": [
      "Epoch 66 Training Loss 0.06838082183650901\n",
      "Epoch 66 Training Loss 0.06838082183650901. Validation Loss 6.97556422551473 Accuracy 23.333333333333332\n"
     ]
    },
    {
     "data": {
      "application/vnd.jupyter.widget-view+json": {
       "model_id": "5a8432ad36424c8f8d090962e91e6d5d",
       "version_major": 2,
       "version_minor": 0
      },
      "text/plain": [
       "  0%|          | 0/186 [00:00<?, ?it/s]"
      ]
     },
     "metadata": {},
     "output_type": "display_data"
    },
    {
     "name": "stdout",
     "output_type": "stream",
     "text": [
      "Epoch 67 Training Loss 0.08180447111491969\n",
      "Epoch 67 Training Loss 0.08180447111491969. Validation Loss 6.52269344329834 Accuracy 30.0\n"
     ]
    },
    {
     "data": {
      "application/vnd.jupyter.widget-view+json": {
       "model_id": "764c1fc208d44576bbf94b599d1d07f9",
       "version_major": 2,
       "version_minor": 0
      },
      "text/plain": [
       "  0%|          | 0/186 [00:00<?, ?it/s]"
      ]
     },
     "metadata": {},
     "output_type": "display_data"
    },
    {
     "name": "stdout",
     "output_type": "stream",
     "text": [
      "Epoch 68 Training Loss 0.07386553063637125\n",
      "Epoch 68 Training Loss 0.07386553063637125. Validation Loss 7.3583908398946125 Accuracy 23.333333333333332\n"
     ]
    },
    {
     "data": {
      "application/vnd.jupyter.widget-view+json": {
       "model_id": "186573f7619f4952824171108f052153",
       "version_major": 2,
       "version_minor": 0
      },
      "text/plain": [
       "  0%|          | 0/186 [00:00<?, ?it/s]"
      ]
     },
     "metadata": {},
     "output_type": "display_data"
    },
    {
     "name": "stdout",
     "output_type": "stream",
     "text": [
      "Epoch 69 Training Loss 0.09830334396385608\n",
      "Epoch 69 Training Loss 0.09830334396385608. Validation Loss 6.7526671409606935 Accuracy 21.666666666666668\n"
     ]
    },
    {
     "data": {
      "application/vnd.jupyter.widget-view+json": {
       "model_id": "2dd71c1ae17c49c5855c80e3f232cbc0",
       "version_major": 2,
       "version_minor": 0
      },
      "text/plain": [
       "  0%|          | 0/186 [00:00<?, ?it/s]"
      ]
     },
     "metadata": {},
     "output_type": "display_data"
    },
    {
     "name": "stdout",
     "output_type": "stream",
     "text": [
      "Epoch 70 Training Loss 0.08577530615641929\n",
      "Epoch 70 Training Loss 0.08577530615641929. Validation Loss 7.097063446044922 Accuracy 21.666666666666668\n"
     ]
    },
    {
     "data": {
      "application/vnd.jupyter.widget-view+json": {
       "model_id": "92210c56e37647c18ade32a6883427be",
       "version_major": 2,
       "version_minor": 0
      },
      "text/plain": [
       "  0%|          | 0/186 [00:00<?, ?it/s]"
      ]
     },
     "metadata": {},
     "output_type": "display_data"
    },
    {
     "name": "stdout",
     "output_type": "stream",
     "text": [
      "Epoch 71 Training Loss 0.07262025391579398\n",
      "Epoch 71 Training Loss 0.07262025391579398. Validation Loss 6.4352979024251304 Accuracy 21.666666666666668\n"
     ]
    },
    {
     "data": {
      "application/vnd.jupyter.widget-view+json": {
       "model_id": "faf12c9ff92345339dc925ec4da97315",
       "version_major": 2,
       "version_minor": 0
      },
      "text/plain": [
       "  0%|          | 0/186 [00:00<?, ?it/s]"
      ]
     },
     "metadata": {},
     "output_type": "display_data"
    },
    {
     "name": "stdout",
     "output_type": "stream",
     "text": [
      "Epoch 72 Training Loss 0.06886453573495642\n",
      "Epoch 72 Training Loss 0.06886453573495642. Validation Loss 6.473768615722657 Accuracy 25.0\n"
     ]
    },
    {
     "data": {
      "application/vnd.jupyter.widget-view+json": {
       "model_id": "905eab24d1a94b33aa71411c6af2e108",
       "version_major": 2,
       "version_minor": 0
      },
      "text/plain": [
       "  0%|          | 0/186 [00:00<?, ?it/s]"
      ]
     },
     "metadata": {},
     "output_type": "display_data"
    },
    {
     "name": "stdout",
     "output_type": "stream",
     "text": [
      "Epoch 73 Training Loss 0.052475553268348886\n",
      "Epoch 73 Training Loss 0.052475553268348886. Validation Loss 6.678671677907308 Accuracy 20.0\n"
     ]
    },
    {
     "data": {
      "application/vnd.jupyter.widget-view+json": {
       "model_id": "1ed5873306b84a10bce3b80f6277e25f",
       "version_major": 2,
       "version_minor": 0
      },
      "text/plain": [
       "  0%|          | 0/186 [00:00<?, ?it/s]"
      ]
     },
     "metadata": {},
     "output_type": "display_data"
    },
    {
     "name": "stdout",
     "output_type": "stream",
     "text": [
      "Epoch 74 Training Loss 0.06904199096161708\n",
      "Epoch 74 Training Loss 0.06904199096161708. Validation Loss 6.294407717386881 Accuracy 28.333333333333332\n",
      "Test Accuracy: \u001b[1m21 % \u001b[0m\n"
     ]
    },
    {
     "data": {
      "image/png": "[encoded data removed]",
      "text/plain": [
       "<Figure size 640x480 with 1 Axes>"
      ]
     },
     "metadata": {},
     "output_type": "display_data"
    }
   ],
   "source": [
    "# I looked up how to bold words so I could make test accuracy more visible in output\n",
    "bold_start = \"\\033[1m\"\n",
    "bold_end = \"\\033[0m\"\n",
    "\n",
    "\n",
    "device = torch.device(\"cuda\" if torch.cuda.is_available() else \"cpu\")\n",
    "\n",
    "train_transform = transforms.Compose(\n",
    "    [transforms.Resize((224, 224)),\n",
    "     transforms.RandomVerticalFlip(0.5),\n",
    "     transforms.ToTensor(),\n",
    "     transforms.Normalize((0.5, 0.5, 0.5), (0.5, 0.5, 0.5))])\n",
    "\n",
    "transform = transforms.Compose(\n",
    "    [transforms.Resize((224, 224)),\n",
    "     transforms.ToTensor(),\n",
    "     transforms.Normalize((0.5, 0.5, 0.5), (0.5, 0.5, 0.5))])\n",
    "\n",
    "\n",
    "batch_size = 32\n",
    "epochs = 75\n",
    "num_classes = 200\n",
    "\n",
    "def create_list_of_epochs(epochs):\n",
    "    list_of_epochs = []\n",
    "    for epoch in range(epochs):\n",
    "        list_of_epochs.append(epoch)\n",
    "    return list_of_epochs\n",
    "\n",
    "\n",
    "train_dataset = datasets.ImageFolder(\"CUB_200_2011_reorganized/train\",\n",
    "                                     transform=train_transform)\n",
    "length_of_inital_train_dataset = int(0.99 * len(train_dataset))\n",
    "length_of_validation_dataset = len(train_dataset) - length_of_inital_train_dataset\n",
    "train_dataset, validation_dataset = random_split(\n",
    "    train_dataset, [length_of_inital_train_dataset, length_of_validation_dataset])\n",
    "validation_dataset.transform = transform\n",
    "test_dataset = datasets.ImageFolder(\"CUB_200_2011_reorganized/test\",\n",
    "                                    transform=transform)\n",
    "\n",
    "\n",
    "train_loader = DataLoader(train_dataset, shuffle=True, batch_size=batch_size)\n",
    "test_loader = DataLoader(test_dataset, shuffle=False, batch_size=batch_size)\n",
    "validation_loader = DataLoader(validation_dataset, shuffle=False, batch_size=batch_size)\n",
    "\n",
    "model = models.resnet18(weights=None)\n",
    "model.fc = nn.Linear(model.fc.in_features, num_classes)\n",
    "model = nn.DataParallel(model)\n",
    "model = model.to(device)\n",
    "\n",
    "loss_function = nn.CrossEntropyLoss()\n",
    "optimizer = optim.Adam(model.parameters())\n",
    "\n",
    "validation_loss_tracker = []\n",
    "\n",
    "list_of_training_loss = []\n",
    "for epoch in range(epochs):\n",
    "    model.train()\n",
    "    running_loss = 0.0\n",
    "    for images, labels in tqdm(train_loader):\n",
    "        images = images.to(device)\n",
    "        labels = labels.to(device)\n",
    "        optimizer.zero_grad()\n",
    "        prediction = model(images)\n",
    "        loss = loss_function(prediction, labels)\n",
    "        loss.backward()\n",
    "        optimizer.step()\n",
    "        running_loss += loss.item() * images.size(0)\n",
    "    training_loss_for_epoch = running_loss/len(train_dataset)\n",
    "    list_of_training_loss.append(training_loss_for_epoch)\n",
    "    print(f\"Epoch {epoch} Training Loss {training_loss_for_epoch}\")\n",
    "\n",
    "    model.eval()\n",
    "    validation_loss = 0\n",
    "    correct_for_validation = 0\n",
    "    total_for_validation = 0\n",
    "    with torch.no_grad():\n",
    "        for images, labels in validation_loader:\n",
    "            images, labels = images.to(device), labels.to(device)\n",
    "            outputs = model(images)\n",
    "            loss = loss_function(outputs, labels)\n",
    "            validation_loss += loss.item() * images.size(0)\n",
    "            nothing, predicted = torch.max(outputs.data, 1)\n",
    "            total_for_validation += labels.size(0)\n",
    "            correct_for_validation += (predicted == labels).sum().item()\n",
    "    avg_val_loss = validation_loss / len(validation_dataset)\n",
    "    validation_loss_tracker.append(avg_val_loss)\n",
    "    accuracy = 100 * correct_for_validation / total_for_validation\n",
    "    print(f\"Epoch {epoch} Training Loss {training_loss_for_epoch}. Validation Loss {avg_val_loss} Accuracy {accuracy}\")\n",
    "\n",
    "\n",
    "correct = 0\n",
    "total = 0\n",
    "model.eval()\n",
    "with torch.no_grad():\n",
    "    for images, labels in test_loader:\n",
    "        model.eval()\n",
    "        images, labels = images.to(device), labels.to(device)\n",
    "        outputs = model(images)\n",
    "        nothing, predicted = torch.max(outputs, 1)\n",
    "        total += labels.size(0)\n",
    "        correct += (predicted == labels).sum().item()\n",
    "\n",
    "print(f'Test Accuracy: {bold_start}{100 * correct // total} % {bold_end}')\n",
    "\n",
    "\n",
    "list_of_epochs = create_list_of_epochs(epochs)\n",
    "\n",
    "list_of_epochs = create_list_of_epochs(epochs)\n",
    "\n",
    "plt.xlabel(\"Epochs\")\n",
    "plt.ylabel(\"Training/Validation loss\")\n",
    "plt.title(\"Training loss epochs\")\n",
    "plt.plot(list_of_epochs, list_of_training_loss, label=\"Training Loss\")\n",
    "plt.plot(list_of_epochs, validation_loss_tracker, label=\"Validation loss\")\n",
    "plt.grid(True)\n",
    "plt.show()\n"
   ]
  },
  {
   "cell_type": "code",
   "execution_count": null,
   "id": "bd095fab-b591-40bc-85c7-7c12b877caec",
   "metadata": {},
   "outputs": [],
   "source": []
  },
  {
   "cell_type": "code",
   "execution_count": null,
   "id": "7b14d465-1430-4772-8b44-d7c9483482e5",
   "metadata": {},
   "outputs": [],
   "source": []
  }
 ],
 "metadata": {
  "kernelspec": {
   "display_name": "Python 3 (ipykernel)",
   "language": "python",
   "name": "python3"
  },
  "language_info": {
   "codemirror_mode": {
    "name": "ipython",
    "version": 3
   },
   "file_extension": ".py",
   "mimetype": "text/x-python",
   "name": "python",
   "nbconvert_exporter": "python",
   "pygments_lexer": "ipython3",
   "version": "3.11.11"
  }
 },
 "nbformat": 4,
 "nbformat_minor": 5
}
